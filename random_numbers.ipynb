{
 "cells": [
  {
   "cell_type": "code",
   "execution_count": 30,
   "id": "09c960e8",
   "metadata": {},
   "outputs": [],
   "source": [
    "# Import the random module.\n",
    "import random\n",
    "# Import the NumPy module. \n",
    "import numpy as np\n",
    "# The NumPy module has a built-in random module, and supplements the built-in Python random module. \n",
    "#There is no need to import the random module if we import the NumPy module, as it's redundant.\n",
    "\n",
    "import pandas as pd\n",
    "\n",
    "import matplotlib.pyplot as plt\n",
    "\n",
    "# Import timeit.\n",
    "import timeit"
   ]
  },
  {
   "cell_type": "code",
   "execution_count": 2,
   "id": "6dd160d3",
   "metadata": {},
   "outputs": [
    {
     "data": {
      "text/plain": [
       "-78"
      ]
     },
     "execution_count": 2,
     "metadata": {},
     "output_type": "execute_result"
    }
   ],
   "source": [
    "random.randint(-90, 90)"
   ]
  },
  {
   "cell_type": "code",
   "execution_count": 3,
   "id": "25aa4892",
   "metadata": {},
   "outputs": [
    {
     "data": {
      "text/plain": [
       "0.9329209375046612"
      ]
     },
     "execution_count": 3,
     "metadata": {},
     "output_type": "execute_result"
    }
   ],
   "source": [
    "random.random()"
   ]
  },
  {
   "cell_type": "code",
   "execution_count": 5,
   "id": "6830a3b1",
   "metadata": {},
   "outputs": [
    {
     "data": {
      "text/plain": [
       "-61.989920379926836"
      ]
     },
     "execution_count": 5,
     "metadata": {},
     "output_type": "execute_result"
    }
   ],
   "source": [
    "random_number = random.randint(-90, 89) + random.random()\n",
    "random_number"
   ]
  },
  {
   "cell_type": "code",
   "execution_count": 7,
   "id": "68b399cc",
   "metadata": {},
   "outputs": [
    {
     "data": {
      "text/plain": [
       "[23.430395528307177,\n",
       " 50.52139247832454,\n",
       " -68.19690183062099,\n",
       " -89.46196762415221,\n",
       " -7.467266403155365,\n",
       " -65.35606779930028,\n",
       " -83.43008116311917,\n",
       " 77.17923602610213,\n",
       " 82.14611944061745,\n",
       " 40.52045075561974]"
      ]
     },
     "execution_count": 7,
     "metadata": {},
     "output_type": "execute_result"
    }
   ],
   "source": [
    "x = 1\n",
    "latitudes = []\n",
    "while x < 11:\n",
    "    random_lat = random.randint(-90, 89) + random.random()\n",
    "    latitudes.append(random_lat)\n",
    "    x += 1\n",
    "latitudes"
   ]
  },
  {
   "cell_type": "code",
   "execution_count": 9,
   "id": "e4880a60",
   "metadata": {},
   "outputs": [
    {
     "data": {
      "text/plain": [
       "75"
      ]
     },
     "execution_count": 9,
     "metadata": {},
     "output_type": "execute_result"
    }
   ],
   "source": [
    "random.randrange(-90, 90, step=3)"
   ]
  },
  {
   "cell_type": "code",
   "execution_count": 10,
   "id": "45ade7b1",
   "metadata": {},
   "outputs": [
    {
     "data": {
      "text/plain": [
       "60.319959586876536"
      ]
     },
     "execution_count": 10,
     "metadata": {},
     "output_type": "execute_result"
    }
   ],
   "source": [
    "random.uniform(-90, 90)"
   ]
  },
  {
   "cell_type": "code",
   "execution_count": 12,
   "id": "74a9eb77",
   "metadata": {},
   "outputs": [
    {
     "data": {
      "text/plain": [
       "75.14498249071727"
      ]
     },
     "execution_count": 12,
     "metadata": {},
     "output_type": "execute_result"
    }
   ],
   "source": [
    "np.random.uniform(-90.000, 90.000)"
   ]
  },
  {
   "cell_type": "code",
   "execution_count": 13,
   "id": "1e6a0436",
   "metadata": {},
   "outputs": [
    {
     "data": {
      "text/plain": [
       "-31.7357384080925"
      ]
     },
     "execution_count": 13,
     "metadata": {},
     "output_type": "execute_result"
    }
   ],
   "source": [
    "np.random.uniform(low=-90, high=90)"
   ]
  },
  {
   "cell_type": "code",
   "execution_count": 14,
   "id": "39068476",
   "metadata": {},
   "outputs": [
    {
     "data": {
      "text/plain": [
       "array([-55.26099601,  18.25441431,  63.09749539, -33.70465456,\n",
       "        -8.92671736,  58.36930569, -68.85292818,  86.82318496,\n",
       "       -61.41313302, -78.77186881,  -0.17608204,  69.35649683,\n",
       "       -62.49504501, -49.81520721, -72.68973873,  67.31680603,\n",
       "        -3.35707881, -30.7526356 ,  51.88485462, -20.40621077,\n",
       "       -85.40158493, -25.9459094 ,  80.75465897,  -7.83373449,\n",
       "        52.49698504,  76.05760189,  10.55309905,  66.98338377,\n",
       "       -60.49242643, -33.85182185,  65.71689324,  -0.66419549,\n",
       "        20.52050255,  56.31480105,  52.83509624,  51.03358426,\n",
       "         4.23688107,  76.32548596,  75.22185036,  45.61015501,\n",
       "        31.30986426,  82.42559527,  48.13950536,  72.00423062,\n",
       "       -57.7219711 , -79.66449459,  78.93571772, -57.2556972 ,\n",
       "        48.60242485, -84.59387633])"
      ]
     },
     "execution_count": 14,
     "metadata": {},
     "output_type": "execute_result"
    }
   ],
   "source": [
    "np.random.uniform(-90.000, 90.000, size=50)"
   ]
  },
  {
   "cell_type": "code",
   "execution_count": 16,
   "id": "1c78fdb7",
   "metadata": {},
   "outputs": [
    {
     "name": "stdout",
     "output_type": "stream",
     "text": [
      "10.2 µs ± 781 ns per loop (mean ± std. dev. of 7 runs, 100,000 loops each)\n"
     ]
    }
   ],
   "source": [
    "%timeit np.random.uniform(-90.000, 90.000, size=1500)\n",
    "# 10.02 us is = to 0.0102ms"
   ]
  },
  {
   "cell_type": "code",
   "execution_count": 17,
   "id": "6321a9f9",
   "metadata": {},
   "outputs": [
    {
     "name": "stdout",
     "output_type": "stream",
     "text": [
      "1.13 ms ± 14 µs per loop (mean ± std. dev. of 7 runs, 1,000 loops each)\n"
     ]
    }
   ],
   "source": [
    "def latitudes(size):\n",
    "    latitudes = []\n",
    "    x = 0\n",
    "    while x < (size):\n",
    "        random_lat = random.randint(-90, 90) + random.random()\n",
    "        latitudes.append(random_lat)\n",
    "        x += 1\n",
    "    return latitudes\n",
    "# Call the function with 1500.\n",
    "%timeit latitudes(1500)"
   ]
  },
  {
   "cell_type": "code",
   "execution_count": 18,
   "id": "75a6abb1",
   "metadata": {},
   "outputs": [
    {
     "name": "stdout",
     "output_type": "stream",
     "text": [
      "0\n",
      "1\n",
      "2\n",
      "3\n",
      "4\n",
      "5\n"
     ]
    }
   ],
   "source": [
    "for x in range(6):\n",
    "  print(x)"
   ]
  },
  {
   "cell_type": "code",
   "execution_count": 27,
   "id": "11ea629b",
   "metadata": {},
   "outputs": [
    {
     "name": "stdout",
     "output_type": "stream",
     "text": [
      "12.4 ns ± 0.0409 ns per loop (mean ± std. dev. of 7 runs, 100,000,000 loops each)\n"
     ]
    }
   ],
   "source": [
    "def generate_data(rows):\n",
    "    df = pd.DataFrame(columns =['lat', 'lon'])\n",
    "    df['lat'] = np.random.randint(9999999, 99999999, rows)/1000000\n",
    "    df['lon'] = np.random.randint(9999999, 99999999, rows)/1000000\n",
    "    return df\n",
    "rows = 1500\n",
    "df = generate_data(rows)\n",
    "df.head()\n",
    "%timeit generate_data "
   ]
  },
  {
   "cell_type": "code",
   "execution_count": 29,
   "id": "32b5b1ec",
   "metadata": {},
   "outputs": [
    {
     "name": "stdout",
     "output_type": "stream",
     "text": [
      "12.4 ns ± 0.136 ns per loop (mean ± std. dev. of 7 runs, 100,000,000 loops each)\n"
     ]
    }
   ],
   "source": [
    "def generate_data(rows):\n",
    "    df = pd.DataFrame(columns =['lat'])\n",
    "    df['lat'] = np.random.randint(-90, 90)\n",
    "    return df\n",
    "rows = 1500\n",
    "df = generate_data(rows)\n",
    "%timeit generate_data "
   ]
  },
  {
   "cell_type": "code",
   "execution_count": null,
   "id": "4d63199d",
   "metadata": {},
   "outputs": [],
   "source": []
  },
  {
   "cell_type": "code",
   "execution_count": null,
   "id": "755910fa",
   "metadata": {},
   "outputs": [],
   "source": []
  },
  {
   "cell_type": "code",
   "execution_count": null,
   "id": "fbe20330",
   "metadata": {},
   "outputs": [],
   "source": []
  },
  {
   "cell_type": "code",
   "execution_count": null,
   "id": "57ac9def",
   "metadata": {},
   "outputs": [],
   "source": []
  },
  {
   "cell_type": "code",
   "execution_count": null,
   "id": "39bcce99",
   "metadata": {},
   "outputs": [],
   "source": []
  },
  {
   "cell_type": "code",
   "execution_count": null,
   "id": "f1b5fb17",
   "metadata": {},
   "outputs": [],
   "source": []
  },
  {
   "cell_type": "code",
   "execution_count": null,
   "id": "5735175c",
   "metadata": {},
   "outputs": [],
   "source": []
  }
 ],
 "metadata": {
  "kernelspec": {
   "display_name": "PythonData",
   "language": "python",
   "name": "pythondata"
  },
  "language_info": {
   "codemirror_mode": {
    "name": "ipython",
    "version": 3
   },
   "file_extension": ".py",
   "mimetype": "text/x-python",
   "name": "python",
   "nbconvert_exporter": "python",
   "pygments_lexer": "ipython3",
   "version": "3.9.13"
  }
 },
 "nbformat": 4,
 "nbformat_minor": 5
}
